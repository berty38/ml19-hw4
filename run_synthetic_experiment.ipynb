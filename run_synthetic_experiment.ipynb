{
 "cells": [
  {
   "cell_type": "code",
   "execution_count": null,
   "metadata": {},
   "outputs": [],
   "source": [
    "%matplotlib inline\n",
    "%load_ext autoreload\n",
    "%autoreload 2"
   ]
  },
  {
   "cell_type": "code",
   "execution_count": null,
   "metadata": {},
   "outputs": [],
   "source": [
    "import numpy as np\n",
    "import matplotlib.pyplot as plt\n",
    "from scipy.io import loadmat\n",
    "from pca import pca\n",
    "from gmm import *\n",
    "import copy"
   ]
  },
  {
   "cell_type": "code",
   "execution_count": null,
   "metadata": {},
   "outputs": [],
   "source": [
    "# load synthetic data from MATLAB data file\n",
    "\n",
    "variables = dict()\n",
    "loadmat('synthData.mat', variables)\n",
    "\n",
    "data = variables['data']"
   ]
  },
  {
   "cell_type": "code",
   "execution_count": null,
   "metadata": {},
   "outputs": [],
   "source": [
    "# run PCA\n",
    "\n",
    "new_data, variances, eigenvectors = pca(data)\n",
    "\n",
    "plt.figure()\n",
    "plt.stem(variances.ravel())\n",
    "plt.xlabel('Dimension')\n",
    "plt.ylabel('Captured Variance')\n",
    "\n",
    "\n",
    "plt.figure()\n",
    "plt.plot(new_data[0,:], new_data[1,:], 'x')\n",
    "plt.title('Transformed Data After PCA')"
   ]
  },
  {
   "cell_type": "code",
   "execution_count": null,
   "metadata": {},
   "outputs": [],
   "source": [
    "# truncate dimensions to just the first two\n",
    "small_data = new_data[:2, :]\n",
    "\n",
    "# split data for validation\n",
    "d, n = small_data.shape\n",
    "\n",
    "# use fraction of data for training\n",
    "\n",
    "train_inds = np.random.rand(n) < 0.5\n",
    "\n",
    "train_data = small_data[:, train_inds]\n",
    "val_data = small_data[:, ~train_inds]"
   ]
  },
  {
   "cell_type": "code",
   "execution_count": null,
   "metadata": {
    "scrolled": false
   },
   "outputs": [],
   "source": [
    "# Run k-means\n",
    "\n",
    "num_clusters = 5\n",
    "\n",
    "means = np.random.randn(d, num_clusters)\n",
    "\n",
    "symbols = ['xr', 'og', 'sb', '*m', '+c']\n",
    "\n",
    "for iter in range(10):\n",
    "    # compute memberships\n",
    "    distance = np.sum(small_data ** 2, 0, keepdims=True) + np.sum(means ** 2, 0, keepdims=True).T - \\\n",
    "               2 * means.T.dot(small_data)\n",
    "    \n",
    "    memberships = np.argmin(distance, 0)\n",
    "    \n",
    "    plot_k_means(small_data, means, memberships)\n",
    "    plt.title(\"K-Means Iteration %d\" % iter)\n",
    "    plt.show()\n",
    "    \n",
    "    # update means\n",
    "\n",
    "    for i in range(num_clusters):\n",
    "        if np.any(memberships == i):\n",
    "            means[:, i] = np.mean(small_data[:, memberships == i], 1)\n",
    "\n",
    "\n",
    "plot_k_means(small_data, means, memberships)\n",
    "plt.title(\"K-Means Iteration 10\")"
   ]
  },
  {
   "cell_type": "code",
   "execution_count": null,
   "metadata": {
    "scrolled": false
   },
   "outputs": [],
   "source": [
    "# Try Gaussian mixture models with different numbers of Gaussians\n",
    "\n",
    "num_clusters = [1, 2, 3, 4, 5, 6, 8, 9, 10]\n",
    "\n",
    "val_likelihood = []\n",
    "\n",
    "all_means = []\n",
    "all_sigmas = []\n",
    "all_clust_probs = []\n",
    "\n",
    "for k in range(len(num_clusters)):\n",
    "    plt.figure()\n",
    "    means, sigmas, clust_probs = gmm(train_data, num_clusters[k], plot='final')\n",
    "    \n",
    "    val_likelihood.append(gmm_ll(val_data, means, sigmas, clust_probs))\n",
    "\n",
    "    all_means.append(means)\n",
    "    all_sigmas.append(sigmas)\n",
    "    all_clust_probs.append(clust_probs)\n",
    "\n",
    "# plot likelihoods\n",
    "\n",
    "plt.figure()\n",
    "\n",
    "plt.plot(num_clusters, val_likelihood)\n",
    "plt.xlabel('Number of Gaussians')\n",
    "plt.ylabel('Log Likelihood of Val. Data')"
   ]
  },
  {
   "cell_type": "code",
   "execution_count": null,
   "metadata": {},
   "outputs": [],
   "source": []
  }
 ],
 "metadata": {
  "anaconda-cloud": {},
  "kernelspec": {
   "display_name": "Python 3",
   "language": "python",
   "name": "python3"
  },
  "language_info": {
   "codemirror_mode": {
    "name": "ipython",
    "version": 3
   },
   "file_extension": ".py",
   "mimetype": "text/x-python",
   "name": "python",
   "nbconvert_exporter": "python",
   "pygments_lexer": "ipython3",
   "version": "3.6.2"
  }
 },
 "nbformat": 4,
 "nbformat_minor": 1
}
